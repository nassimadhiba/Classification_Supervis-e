{
  "nbformat": 4,
  "nbformat_minor": 0,
  "metadata": {
    "colab": {
      "provenance": []
    },
    "kernelspec": {
      "name": "python3",
      "display_name": "Python 3"
    },
    "language_info": {
      "name": "python"
    }
  },
  "cells": [
    {
      "cell_type": "code",
      "execution_count": null,
      "metadata": {
        "id": "QUP-0fdHYcTH"
      },
      "outputs": [],
      "source": [
        "\n",
        "import numpy as np\n",
        "import matplotlib.pyplot as plt\n",
        "from sklearn.svm import SVC\n",
        "from sklearn.neighbors import KNeighborsClassifier\n",
        "from sklearn.tree import DecisionTreeClassifier\n",
        "from sklearn.metrics import confusion_matrix, accuracy_score, precision_score, recall_score, f1_score\n",
        "from sklearn.preprocessing import StandardScaler\n",
        "from tensorflow import keras\n",
        "import pandas as pd\n"
      ]
    },
    {
      "cell_type": "markdown",
      "source": [
        "# CHARGEMENT ET PRÉPARATION DES DONNÉES"
      ],
      "metadata": {
        "id": "mqs053BrbmFz"
      }
    },
    {
      "cell_type": "code",
      "source": [
        "# Charger CIFAR-10\n",
        "(x_train, y_train), (x_test, y_test) = keras.datasets.cifar10.load_data()\n",
        "\n",
        "# Garder seulement Oiseau (classe 2) et Camion (classe 9)\n",
        "mask_train = (y_train == 2) | (y_train == 9)\n",
        "mask_test = (y_test == 2) | (y_test == 9)\n",
        "\n",
        "x_train = x_train[mask_train.flatten()]\n",
        "y_train = y_train[mask_train.flatten()]\n",
        "x_test = x_test[mask_test.flatten()]\n",
        "y_test = y_test[mask_test.flatten()]\n",
        "\n",
        "# Convertir: Oiseau=0, Camion=1\n",
        "y_train = (y_train == 9).astype(int)\n",
        "y_test = (y_test == 9).astype(int)\n",
        "\n",
        "print(f\" Données train: {len(x_train)} images\")\n",
        "print(f\" Données test: {len(x_test)} images\")"
      ],
      "metadata": {
        "colab": {
          "base_uri": "https://localhost:8080/"
        },
        "id": "BNm2RferZmzO",
        "outputId": "831eee91-7980-4702-ad0e-0c0cdbd90889"
      },
      "execution_count": null,
      "outputs": [
        {
          "output_type": "stream",
          "name": "stdout",
          "text": [
            "Downloading data from https://www.cs.toronto.edu/~kriz/cifar-10-python.tar.gz\n",
            "\u001b[1m170498071/170498071\u001b[0m \u001b[32m━━━━━━━━━━━━━━━━━━━━\u001b[0m\u001b[37m\u001b[0m \u001b[1m4s\u001b[0m 0us/step\n",
            " Données train: 10000 images\n",
            " Données test: 2000 images\n"
          ]
        }
      ]
    },
    {
      "cell_type": "markdown",
      "source": [
        " # 2. EXTRACTION DES CARACTÉRISTIQUES\n"
      ],
      "metadata": {
        "id": "CvIvK505cEvS"
      }
    },
    {
      "cell_type": "code",
      "source": [
        "def extraire_features(images):\n",
        "    \"\"\"Extraire les caractéristiques de couleur et texture\"\"\"\n",
        "    features = []\n",
        "\n",
        "    for img in images:\n",
        "        img = img / 255.0  # Normalisation\n",
        "\n",
        "        # 1. Histogramme couleur (24 features)\n",
        "        hist_r = np.histogram(img[:,:,0], bins=8, range=(0,1))[0]\n",
        "        hist_g = np.histogram(img[:,:,1], bins=8, range=(0,1))[0]\n",
        "        hist_b = np.histogram(img[:,:,2], bins=8, range=(0,1))[0]\n",
        "\n",
        "        # 2. Moments couleur (6 features)\n",
        "        mean_rgb = [img[:,:,i].mean() for i in range(3)]\n",
        "        std_rgb = [img[:,:,i].std() for i in range(3)]\n",
        "\n",
        "        # 3. Texture (4 features)\n",
        "        gray = img.mean(axis=2)\n",
        "        texture = [gray.mean(), gray.std(),\n",
        "                   np.sum(gray**2)/gray.size,\n",
        "                   -np.sum(gray * np.log(gray + 1e-10))/gray.size]\n",
        "\n",
        "        # Combiner toutes les features\n",
        "        f = np.concatenate([hist_r, hist_g, hist_b, mean_rgb, std_rgb, texture])\n",
        "        features.append(f)\n",
        "\n",
        "    return np.array(features)\n",
        "\n",
        "# Extraire les features\n",
        "X_train = extraire_features(x_train)\n",
        "X_test = extraire_features(x_test)\n",
        "\n",
        "print(f\" {X_train.shape[1]} caractéristiques extraites par image\")\n",
        "\n",
        "# Normaliser les features\n",
        "scaler = StandardScaler()\n",
        "X_train = scaler.fit_transform(X_train)\n",
        "X_test = scaler.transform(X_test)"
      ],
      "metadata": {
        "colab": {
          "base_uri": "https://localhost:8080/"
        },
        "id": "L3Z8EUg9bJZT",
        "outputId": "ab5f8792-11ba-4525-a96f-2ff67ee05aa8"
      },
      "execution_count": null,
      "outputs": [
        {
          "output_type": "stream",
          "name": "stdout",
          "text": [
            " 34 caractéristiques extraites par image\n"
          ]
        }
      ]
    },
    {
      "cell_type": "markdown",
      "source": [
        "#  ENTRAÎNEMENT DU MODÈLE SVM\n"
      ],
      "metadata": {
        "id": "-JtisxyOcc39"
      }
    },
    {
      "cell_type": "code",
      "source": [
        "svm = SVC(kernel='rbf', C=1.0, random_state=42)\n",
        "svm.fit(X_train, y_train)\n",
        "print(\" Modèle SVM entraîné avec succès\")\n"
      ],
      "metadata": {
        "colab": {
          "base_uri": "https://localhost:8080/"
        },
        "id": "YHtDu8YrcZvX",
        "outputId": "3e43ddf2-7336-49c0-8b24-cb0193961e99"
      },
      "execution_count": null,
      "outputs": [
        {
          "output_type": "stream",
          "name": "stderr",
          "text": [
            "/usr/local/lib/python3.12/dist-packages/sklearn/utils/validation.py:1408: DataConversionWarning: A column-vector y was passed when a 1d array was expected. Please change the shape of y to (n_samples, ), for example using ravel().\n",
            "  y = column_or_1d(y, warn=True)\n"
          ]
        },
        {
          "output_type": "stream",
          "name": "stdout",
          "text": [
            " Modèle SVM entraîné avec succès\n"
          ]
        }
      ]
    },
    {
      "cell_type": "markdown",
      "source": [
        "# PRÉDICTION SUR DES IMAGES DE VALIDATION\n"
      ],
      "metadata": {
        "id": "JN-STVXpcodd"
      }
    },
    {
      "cell_type": "code",
      "source": [
        "# Prendre 1 oiseau et 1 camion\n",
        "idx_oiseau = np.where(y_test == 0)[0][0]\n",
        "idx_camion = np.where(y_test == 1)[0][5]\n",
        "\n",
        "# Prédire\n",
        "pred_oiseau = svm.predict([X_test[idx_oiseau]])[0]\n",
        "pred_camion = svm.predict([X_test[idx_camion]])[0]\n",
        "\n",
        "classes = ['Oiseau', 'Camion']\n",
        "\n",
        "# Récupérer les vraies classes (conversion en int)\n",
        "vrai_oiseau = int(y_test[idx_oiseau])\n",
        "vrai_camion = int(y_test[idx_camion])\n",
        "\n",
        "# Afficher les images et prédictions\n",
        "fig, axes = plt.subplots(1, 2, figsize=(10, 4))\n",
        "\n",
        "axes[0].imshow(x_test[idx_oiseau])\n",
        "axes[0].set_title(f'Vrai: {classes[vrai_oiseau]}\\nPrédit: {classes[pred_oiseau]}',\n",
        "                  fontsize=12, fontweight='bold')\n",
        "axes[0].axis('off')\n",
        "\n",
        "axes[1].imshow(x_test[idx_camion])\n",
        "axes[1].set_title(f'Vrai: {classes[vrai_camion]}\\nPrédit: {classes[pred_camion]}',\n",
        "                  fontsize=12, fontweight='bold')\n",
        "axes[1].axis('off')\n",
        "\n",
        "plt.suptitle('Prédictions du SVM', fontsize=14, fontweight='bold')\n",
        "plt.tight_layout()\n",
        "plt.show()\n",
        "\n",
        "print(f\"Image 1 → Vrai: {classes[vrai_oiseau]}, Prédit: {classes[pred_oiseau]}\")\n",
        "print(f\"Image 2 → Vrai: {classes[vrai_camion]}, Prédit: {classes[pred_camion]}\")\n"
      ],
      "metadata": {
        "colab": {
          "base_uri": "https://localhost:8080/",
          "height": 538
        },
        "id": "njzhX5HWct_G",
        "outputId": "5a10a197-525f-4925-b699-2e2064717b4a"
      },
      "execution_count": null,
      "outputs": [
        {
          "output_type": "stream",
          "name": "stderr",
          "text": [
            "/tmp/ipython-input-2993137555.py:12: DeprecationWarning: Conversion of an array with ndim > 0 to a scalar is deprecated, and will error in future. Ensure you extract a single element from your array before performing this operation. (Deprecated NumPy 1.25.)\n",
            "  vrai_oiseau = int(y_test[idx_oiseau])\n",
            "/tmp/ipython-input-2993137555.py:13: DeprecationWarning: Conversion of an array with ndim > 0 to a scalar is deprecated, and will error in future. Ensure you extract a single element from your array before performing this operation. (Deprecated NumPy 1.25.)\n",
            "  vrai_camion = int(y_test[idx_camion])\n"
          ]
        },
        {
          "output_type": "display_data",
          "data": {
            "text/plain": [
              "<Figure size 1000x400 with 2 Axes>"
            ],
            "image/png": "[encoded data removed]"
          },
          "metadata": {}
        },
        {
          "output_type": "stream",
          "name": "stdout",
          "text": [
            "Image 1 → Vrai: Oiseau, Prédit: Oiseau\n",
            "Image 2 → Vrai: Camion, Prédit: Camion\n"
          ]
        }
      ]
    },
    {
      "cell_type": "markdown",
      "source": [
        "# ÉVALUATION AVEC MATRICE DE CONFUSION"
      ],
      "metadata": {
        "id": "p4TG2t3VdCkN"
      }
    },
    {
      "cell_type": "code",
      "source": [
        "# Prédire sur tout le test set\n",
        "y_pred = svm.predict(X_test)\n",
        "\n",
        "# Matrice de confusion\n",
        "cm = confusion_matrix(y_test, y_pred)\n",
        "TN, FP, FN, TP = cm.ravel()\n",
        "\n",
        "print(\"\\nMATRICE DE CONFUSION:\")\n",
        "print(f\"                  Prédit Oiseau    Prédit Camion\")\n",
        "print(f\"Vrai Oiseau            {TN:4d}            {FP:4d}\")\n",
        "print(f\"Vrai Camion            {FN:4d}            {TP:4d}\")\n",
        "\n",
        "print(f\"\\nDÉTAIL DES VALEURS:\")\n",
        "print(f\"  TN (Vrais Négatifs)  = {TN:4d}  → Oiseaux bien classés\")\n",
        "print(f\"  FP (Faux Positifs)   = {FP:4d}  → Oiseaux classés Camion\")\n",
        "print(f\"  FN (Faux Négatifs)   = {FN:4d}  → Camions classés Oiseau\")\n",
        "print(f\"  TP (Vrais Positifs)  = {TP:4d}  → Camions bien classés\")\n",
        "\n",
        "# Calculer les métriques\n",
        "accuracy = (TP + TN) / (TP + TN + FP + FN)\n",
        "precision = TP / (TP + FP)\n",
        "rappel = TP / (TP + FN)\n",
        "f_mesure = 2 * (precision * rappel) / (precision + rappel)\n",
        "\n",
        "print(f\"\\nMÉTRIQUES DE PERFORMANCE:\")\n",
        "print(f\"  Accuracy   = {accuracy:.4f}  ({accuracy*100:.2f}%)\")\n",
        "print(f\"  Précision  = {precision:.4f}  ({precision*100:.2f}%)\")\n",
        "print(f\"  Rappel     = {rappel:.4f}  ({rappel*100:.2f}%)\")\n",
        "print(f\"  F-mesure   = {f_mesure:.4f}  ({f_mesure*100:.2f}%)\")"
      ],
      "metadata": {
        "colab": {
          "base_uri": "https://localhost:8080/"
        },
        "id": "-Vh5PhszdIKy",
        "outputId": "87eba679-f2f8-4dae-990b-5bf7dfd75dba"
      },
      "execution_count": null,
      "outputs": [
        {
          "output_type": "stream",
          "name": "stdout",
          "text": [
            "\n",
            "MATRICE DE CONFUSION:\n",
            "                  Prédit Oiseau    Prédit Camion\n",
            "Vrai Oiseau             833             167\n",
            "Vrai Camion             109             891\n",
            "\n",
            "DÉTAIL DES VALEURS:\n",
            "  TN (Vrais Négatifs)  =  833  → Oiseaux bien classés\n",
            "  FP (Faux Positifs)   =  167  → Oiseaux classés Camion\n",
            "  FN (Faux Négatifs)   =  109  → Camions classés Oiseau\n",
            "  TP (Vrais Positifs)  =  891  → Camions bien classés\n",
            "\n",
            "MÉTRIQUES DE PERFORMANCE:\n",
            "  Accuracy   = 0.8620  (86.20%)\n",
            "  Précision  = 0.8422  (84.22%)\n",
            "  Rappel     = 0.8910  (89.10%)\n",
            "  F-mesure   = 0.8659  (86.59%)\n"
          ]
        }
      ]
    },
    {
      "cell_type": "markdown",
      "source": [
        "#  ÉTUDE COMPARATIVE: SVM, KNN, DECISION TREE"
      ],
      "metadata": {
        "id": "ynEjm7MHdYX8"
      }
    },
    {
      "cell_type": "code",
      "source": [
        "# Définir les modèles à comparer\n",
        "modeles = {\n",
        "    # SVM avec différents paramètres\n",
        "    'SVM (C=0.1, RBF)': SVC(kernel='rbf', C=0.1, random_state=42),\n",
        "    'SVM (C=1, RBF)': SVC(kernel='rbf', C=1.0, random_state=42),\n",
        "    'SVM (C=10, RBF)': SVC(kernel='rbf', C=10, random_state=42),\n",
        "    'SVM (Linear)': SVC(kernel='linear', C=1.0, random_state=42),\n",
        "\n",
        "    # KNN avec différents k\n",
        "    'KNN (k=3)': KNeighborsClassifier(n_neighbors=3),\n",
        "    'KNN (k=5)': KNeighborsClassifier(n_neighbors=5),\n",
        "    'KNN (k=7)': KNeighborsClassifier(n_neighbors=7),\n",
        "    'KNN (k=10)': KNeighborsClassifier(n_neighbors=10),\n",
        "\n",
        "    # Decision Tree avec différentes profondeurs\n",
        "    'DT (depth=5)': DecisionTreeClassifier(max_depth=5, random_state=42),\n",
        "    'DT (depth=10)': DecisionTreeClassifier(max_depth=10, random_state=42),\n",
        "    'DT (depth=20)': DecisionTreeClassifier(max_depth=20, random_state=42),\n",
        "    'DT (no limit)': DecisionTreeClassifier(random_state=42),\n",
        "}\n",
        "\n",
        "# Entraîner et évaluer chaque modèle\n",
        "resultats = []\n",
        "\n",
        "print(\"\\nEntraînement des modèles...\")\n",
        "for nom, modele in modeles.items():\n",
        "    # Entraîner\n",
        "    modele.fit(X_train, y_train)\n",
        "\n",
        "    # Prédire\n",
        "    y_pred = modele.predict(X_test)\n",
        "\n",
        "    # Calculer les métriques\n",
        "    acc = accuracy_score(y_test, y_pred)\n",
        "    prec = precision_score(y_test, y_pred)\n",
        "    rec = recall_score(y_test, y_pred)\n",
        "    f1 = f1_score(y_test, y_pred)\n",
        "\n",
        "    resultats.append({\n",
        "        'Modèle': nom,\n",
        "        'Accuracy': f\"{acc:.4f}\",\n",
        "        'Précision': f\"{prec:.4f}\",\n",
        "        'Rappel': f\"{rec:.4f}\",\n",
        "        'F-mesure': f\"{f1:.4f}\"\n",
        "    })\n",
        "\n",
        "    print(f\"  ✓ {nom}\")\n",
        "\n",
        "# Créer le tableau des résultats\n",
        "df = pd.DataFrame(resultats)\n",
        "\n",
        "print(\"\\n\" + \"=\"*80)\n",
        "print(\"TABLEAU COMPARATIF DES PERFORMANCES\")\n",
        "print(\"=\"*80)\n",
        "print(df.to_string(index=False))"
      ],
      "metadata": {
        "colab": {
          "base_uri": "https://localhost:8080/"
        },
        "id": "AmQHeW56ddSX",
        "outputId": "aadbaf93-af5b-4fda-8f96-fe1313f82365"
      },
      "execution_count": null,
      "outputs": [
        {
          "output_type": "stream",
          "name": "stdout",
          "text": [
            "\n",
            "Entraînement des modèles...\n"
          ]
        },
        {
          "output_type": "stream",
          "name": "stderr",
          "text": [
            "/usr/local/lib/python3.12/dist-packages/sklearn/utils/validation.py:1408: DataConversionWarning: A column-vector y was passed when a 1d array was expected. Please change the shape of y to (n_samples, ), for example using ravel().\n",
            "  y = column_or_1d(y, warn=True)\n"
          ]
        },
        {
          "output_type": "stream",
          "name": "stdout",
          "text": [
            "  ✓ SVM (C=0.1, RBF)\n"
          ]
        },
        {
          "output_type": "stream",
          "name": "stderr",
          "text": [
            "/usr/local/lib/python3.12/dist-packages/sklearn/utils/validation.py:1408: DataConversionWarning: A column-vector y was passed when a 1d array was expected. Please change the shape of y to (n_samples, ), for example using ravel().\n",
            "  y = column_or_1d(y, warn=True)\n"
          ]
        },
        {
          "output_type": "stream",
          "name": "stdout",
          "text": [
            "  ✓ SVM (C=1, RBF)\n"
          ]
        },
        {
          "output_type": "stream",
          "name": "stderr",
          "text": [
            "/usr/local/lib/python3.12/dist-packages/sklearn/utils/validation.py:1408: DataConversionWarning: A column-vector y was passed when a 1d array was expected. Please change the shape of y to (n_samples, ), for example using ravel().\n",
            "  y = column_or_1d(y, warn=True)\n"
          ]
        },
        {
          "output_type": "stream",
          "name": "stdout",
          "text": [
            "  ✓ SVM (C=10, RBF)\n"
          ]
        },
        {
          "output_type": "stream",
          "name": "stderr",
          "text": [
            "/usr/local/lib/python3.12/dist-packages/sklearn/utils/validation.py:1408: DataConversionWarning: A column-vector y was passed when a 1d array was expected. Please change the shape of y to (n_samples, ), for example using ravel().\n",
            "  y = column_or_1d(y, warn=True)\n"
          ]
        },
        {
          "output_type": "stream",
          "name": "stdout",
          "text": [
            "  ✓ SVM (Linear)\n"
          ]
        },
        {
          "output_type": "stream",
          "name": "stderr",
          "text": [
            "/usr/local/lib/python3.12/dist-packages/sklearn/neighbors/_classification.py:239: DataConversionWarning: A column-vector y was passed when a 1d array was expected. Please change the shape of y to (n_samples,), for example using ravel().\n",
            "  return self._fit(X, y)\n"
          ]
        },
        {
          "output_type": "stream",
          "name": "stdout",
          "text": [
            "  ✓ KNN (k=3)\n"
          ]
        },
        {
          "output_type": "stream",
          "name": "stderr",
          "text": [
            "/usr/local/lib/python3.12/dist-packages/sklearn/neighbors/_classification.py:239: DataConversionWarning: A column-vector y was passed when a 1d array was expected. Please change the shape of y to (n_samples,), for example using ravel().\n",
            "  return self._fit(X, y)\n"
          ]
        },
        {
          "output_type": "stream",
          "name": "stdout",
          "text": [
            "  ✓ KNN (k=5)\n"
          ]
        },
        {
          "output_type": "stream",
          "name": "stderr",
          "text": [
            "/usr/local/lib/python3.12/dist-packages/sklearn/neighbors/_classification.py:239: DataConversionWarning: A column-vector y was passed when a 1d array was expected. Please change the shape of y to (n_samples,), for example using ravel().\n",
            "  return self._fit(X, y)\n"
          ]
        },
        {
          "output_type": "stream",
          "name": "stdout",
          "text": [
            "  ✓ KNN (k=7)\n"
          ]
        },
        {
          "output_type": "stream",
          "name": "stderr",
          "text": [
            "/usr/local/lib/python3.12/dist-packages/sklearn/neighbors/_classification.py:239: DataConversionWarning: A column-vector y was passed when a 1d array was expected. Please change the shape of y to (n_samples,), for example using ravel().\n",
            "  return self._fit(X, y)\n"
          ]
        },
        {
          "output_type": "stream",
          "name": "stdout",
          "text": [
            "  ✓ KNN (k=10)\n",
            "  ✓ DT (depth=5)\n",
            "  ✓ DT (depth=10)\n",
            "  ✓ DT (depth=20)\n",
            "  ✓ DT (no limit)\n",
            "\n",
            "================================================================================\n",
            "TABLEAU COMPARATIF DES PERFORMANCES\n",
            "================================================================================\n",
            "          Modèle Accuracy Précision Rappel F-mesure\n",
            "SVM (C=0.1, RBF)   0.8355    0.8138 0.8700   0.8410\n",
            "  SVM (C=1, RBF)   0.8620    0.8422 0.8910   0.8659\n",
            " SVM (C=10, RBF)   0.8745    0.8563 0.9000   0.8776\n",
            "    SVM (Linear)   0.8300    0.8061 0.8690   0.8364\n",
            "       KNN (k=3)   0.8275    0.8093 0.8570   0.8324\n",
            "       KNN (k=5)   0.8345    0.8083 0.8770   0.8412\n",
            "       KNN (k=7)   0.8345    0.8044 0.8840   0.8423\n",
            "      KNN (k=10)   0.8320    0.8126 0.8630   0.8371\n",
            "    DT (depth=5)   0.8150    0.8137 0.8170   0.8154\n",
            "   DT (depth=10)   0.8060    0.7898 0.8340   0.8113\n",
            "   DT (depth=20)   0.7885    0.7929 0.7810   0.7869\n",
            "   DT (no limit)   0.7820    0.7944 0.7610   0.7773\n"
          ]
        }
      ]
    },
    {
      "cell_type": "code",
      "source": [
        "# Convertir les colonnes de métriques en numériques pour le tri\n",
        "df['Accuracy'] = pd.to_numeric(df['Accuracy'])\n",
        "df['Précision'] = pd.to_numeric(df['Précision'])\n",
        "df['Rappel'] = pd.to_numeric(df['Rappel'])\n",
        "df['F-mesure'] = pd.to_numeric(df['F-mesure'])\n",
        "\n",
        "\n",
        "# Meilleur modèle par métrique\n",
        "best_accuracy = df.loc[df['Accuracy'].idxmax()]\n",
        "best_precision = df.loc[df['Précision'].idxmax()]\n",
        "best_recall = df.loc[df['Rappel'].idxmax()]\n",
        "best_f1 = df.loc[df['F-mesure'].idxmax()]\n",
        "\n",
        "print(\"\\n1. MEILLEURS MODÈLES PAR MÉTRIQUE:\")\n",
        "print(f\"   • Accuracy  : {best_accuracy['Modèle']} ({best_accuracy['Accuracy']:.4f})\")\n",
        "print(f\"   • Précision : {best_precision['Modèle']} ({best_precision['Précision']:.4f})\")\n",
        "print(f\"   • Rappel    : {best_recall['Modèle']} ({best_recall['Rappel']:.4f})\")\n",
        "print(f\"   • F-mesure  : {best_f1['Modèle']} ({best_f1['F-mesure']:.4f})\")\n",
        "\n"
      ],
      "metadata": {
        "colab": {
          "base_uri": "https://localhost:8080/"
        },
        "id": "QHv8sI8od6S8",
        "outputId": "9f27447c-66ba-4083-8bcf-c3a8d7d8ab12"
      },
      "execution_count": null,
      "outputs": [
        {
          "output_type": "stream",
          "name": "stdout",
          "text": [
            "\n",
            "1. MEILLEURS MODÈLES PAR MÉTRIQUE:\n",
            "   • Accuracy  : SVM (C=10, RBF) (0.8745)\n",
            "   • Précision : SVM (C=10, RBF) (0.8563)\n",
            "   • Rappel    : SVM (C=10, RBF) (0.9000)\n",
            "   • F-mesure  : SVM (C=10, RBF) (0.8776)\n"
          ]
        }
      ]
    },
    {
      "cell_type": "markdown",
      "source": [
        "2. ANALYSE PAR ALGORITHME:\n",
        "\n",
        "   SVM:\n",
        "   - Meilleure performance: SVM (C=10, RBF) (Accuracy: 0.8745)\n",
        "   - Le noyau RBF avec C=1.0 ou C=10 offre les meilleures performances\n",
        "   - Le noyau polynomial est moins adapté à ce problème\n",
        "\n",
        "   KNN:\n",
        "   - Meilleure performance: KNN (k=5) (Accuracy: 0.8345)\n",
        "   - Performance stable entre k=3 et k=10\n",
        "   - L'utilisation de poids pondérés améliore les résultats\n",
        "\n",
        "   Decision Tree:\n",
        "   - Meilleure performance: DT (depth=5) (Accuracy: 0.8150)\n",
        "   - Les arbres profonds (max_depth élevé) peuvent sur-apprendre\n",
        "   - Une profondeur modérée (10-20) offre un bon compromis\n",
        "\n",
        "3. OBSERVATIONS GÉNÉRALES:\n",
        "   - L'algorithme SVM (C=10, RBF) offre la meilleure performance globale\n",
        "   - Les caractéristiques CBIR (couleur + texture) sont efficaces pour distinguer\n",
        "     les oiseaux des camions\n",
        "   - La normalisation des features améliore significativement les performances\n",
        "   - Tous les modèles atteignent une accuracy supérieure à 85%, ce qui indique\n",
        "     que les deux classes sont bien séparables dans l'espace des features\n",
        "\n",
        "4. RECOMMANDATIONS:\n",
        "   - Pour la production: utiliser SVM (C=10, RBF)\n",
        "   - Pour l'interprétabilité: privilégier Decision Tree avec profondeur modérée\n",
        "   - Pour la rapidité d'inférence: KNN peut être plus lent sur grands datasets\n",
        "   - SVM avec noyau RBF offre un excellent compromis performance/robustesse\n"
      ],
      "metadata": {
        "id": "Rj5_SBIo2DRb"
      }
    }
  ]
}